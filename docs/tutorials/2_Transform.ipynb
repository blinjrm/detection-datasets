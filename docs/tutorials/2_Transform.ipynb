{
 "cells": [
  {
   "cell_type": "markdown",
   "id": "e1c1744e-06f5-4f7f-9105-d21aed5a5278",
   "metadata": {},
   "source": [
    "# 2. Load from Hub and transform"
   ]
  },
  {
   "cell_type": "markdown",
   "id": "2cbc298f-e331-4ee8-bc0b-1c88f429bc50",
   "metadata": {},
   "source": [
    "## Setup"
   ]
  },
  {
   "cell_type": "code",
   "execution_count": null,
   "id": "39a6478e-0a65-4a34-bad0-fbd5e08984ae",
   "metadata": {},
   "outputs": [],
   "source": [
    "from detection_datasets import DetectionDataset, available_in_hub"
   ]
  },
  {
   "cell_type": "markdown",
   "id": "e80025c1-b3d5-4d76-b574-01bd5031e6fc",
   "metadata": {},
   "source": [
    "## Load from Hub"
   ]
  },
  {
   "cell_type": "code",
   "execution_count": null,
   "id": "75647e70-62ac-48a8-8215-c170fd2376d0",
   "metadata": {},
   "outputs": [],
   "source": [
    "available_in_hub()"
   ]
  },
  {
   "cell_type": "code",
   "execution_count": null,
   "id": "23a847e0-f27c-4434-8702-507cbd2d6e8c",
   "metadata": {},
   "outputs": [],
   "source": [
    "dd = DetectionDataset().from_hub(dataset_name='fashionpedia')"
   ]
  },
  {
   "cell_type": "markdown",
   "id": "2c29f7e5-63b5-4219-b204-b7e1dbef5336",
   "metadata": {},
   "source": [
    "## Analyze the dataset"
   ]
  },
  {
   "cell_type": "code",
   "execution_count": null,
   "id": "e637e5b4-c222-40ad-a02f-fe22cd2c51d4",
   "metadata": {},
   "outputs": [],
   "source": [
    "dd.data"
   ]
  },
  {
   "cell_type": "code",
   "execution_count": null,
   "id": "f63e701e-8684-4b64-a3ec-8f2f314da3bd",
   "metadata": {},
   "outputs": [],
   "source": [
    "dd.show(image_id=25)"
   ]
  },
  {
   "cell_type": "code",
   "execution_count": null,
   "id": "1378c156-9780-4f1e-80c2-40c3851b7442",
   "metadata": {},
   "outputs": [],
   "source": [
    "dd.categories"
   ]
  },
  {
   "cell_type": "markdown",
   "id": "89b531d4-b51d-4f4f-aa98-bee3dc25acd9",
   "metadata": {},
   "source": [
    "## Transform the dataset"
   ]
  },
  {
   "cell_type": "markdown",
   "id": "6fd25f83-9aac-44b9-8757-ba9db40e4c84",
   "metadata": {},
   "source": [
    "### Change the categories"
   ]
  },
  {
   "cell_type": "markdown",
   "id": "e181e706-bfea-4479-bf32-3b8b28ac072c",
   "metadata": {},
   "source": [
    "In this dataset we have very fine_grained labels, so to create an easier task we may want to focus on higher level labels, like \"clothing\" instead of \"pants\".  \n",
    "\n",
    "For example, let us assume that we are only interested in detection these 4 classes:  \n",
    "- Clothing  \n",
    "- Shoes  \n",
    "- Bags  \n",
    "- Accessories  "
   ]
  },
  {
   "cell_type": "markdown",
   "id": "f05730f9-cb1b-4a00-98a2-cd39934e85a5",
   "metadata": {},
   "source": [
    "We can start by printing a list of the existing category names, and use it to create our mapping dictionnary:"
   ]
  },
  {
   "cell_type": "code",
   "execution_count": null,
   "id": "2ba36eb6-8af3-4e77-8469-95633fe0f842",
   "metadata": {},
   "outputs": [],
   "source": [
    "dd.category_names"
   ]
  },
  {
   "cell_type": "code",
   "execution_count": null,
   "id": "0e2cf51f-d74d-4409-b0c3-7aac57bd21ce",
   "metadata": {},
   "outputs": [],
   "source": [
    "mapping = {\n",
    "    'shirt, blouse': 'clothing',\n",
    "    'top, t-shirt, sweatshirt': 'clothing',\n",
    "    'sweater': 'clothing',\n",
    "    'cardigan': 'clothing',\n",
    "    'jacket': 'clothing',\n",
    "    'vest': 'clothing',\n",
    "    'pants': 'clothing',\n",
    "    'shorts': 'clothing',\n",
    "    'skirt': 'clothing',\n",
    "    'coat': 'clothing',\n",
    "    'dress': 'clothing',\n",
    "    'jumpsuit': 'clothing',\n",
    "    'cape': 'clothing',\n",
    "    'glasses': 'accessories',\n",
    "    'hat': 'accessories',\n",
    "    'headband, head covering, hair accessory': 'accessories',\n",
    "    'tie': 'accessories',\n",
    "    'glove': 'accessories',\n",
    "    'belt': 'accessories',\n",
    "    'tights, stockings': 'accessories',\n",
    "    'sock': 'accessories',\n",
    "    'shoe': 'shoes',\n",
    "    'bag, wallet': 'bags',\n",
    "    'scarf': 'accessories',\n",
    "}"
   ]
  },
  {
   "cell_type": "markdown",
   "id": "d802d404-c0e4-427f-9b9a-40f637732afb",
   "metadata": {},
   "source": [
    "We will then map the existing classes to these new classes with a simple Python dictionnary.  \n",
    "\n",
    "3 thinks will happen when applying this new mapping:  \n",
    "- The existing categories will be replaced by their mapped category names\n",
    "- The existing categories that have no equivalent in this mapping will be dropped  \n",
    "- The category_id will be recreated using the alphabetical order of the new categories (here 'Accessiroes' will have id et to 0, Bags to 1 and so on)"
   ]
  },
  {
   "cell_type": "code",
   "execution_count": null,
   "id": "44c05255-3758-498d-adba-4ad3dc932c37",
   "metadata": {},
   "outputs": [],
   "source": [
    "dd.map_categories(mapping=mapping)"
   ]
  },
  {
   "cell_type": "code",
   "execution_count": null,
   "id": "fc994251-6390-4f2c-905f-a2d53062327a",
   "metadata": {},
   "outputs": [],
   "source": [
    "dd.categories"
   ]
  },
  {
   "cell_type": "code",
   "execution_count": null,
   "id": "d72f849b-9c36-4e5c-a4ec-1217c4e61aa0",
   "metadata": {},
   "outputs": [],
   "source": [
    "dd.data"
   ]
  },
  {
   "cell_type": "code",
   "execution_count": null,
   "id": "3ab442e1-d8e9-46b5-8d1d-57a68b4a5ae1",
   "metadata": {},
   "outputs": [],
   "source": [
    "dd.show(image_id=25)"
   ]
  },
  {
   "cell_type": "markdown",
   "id": "e8e92107-23cc-4df3-807f-86943eb88d58",
   "metadata": {},
   "source": [
    "### Change the splits"
   ]
  },
  {
   "cell_type": "markdown",
   "id": "11a60e77-ad87-4c0e-a8bc-0fe112673256",
   "metadata": {},
   "source": [
    "The fashionpedia comes with the following splits:"
   ]
  },
  {
   "cell_type": "code",
   "execution_count": null,
   "id": "45f264a6-f785-48bf-8ef6-23cbc532a4c8",
   "metadata": {},
   "outputs": [],
   "source": [
    "dd.splits"
   ]
  },
  {
   "cell_type": "code",
   "execution_count": null,
   "id": "6ef4da3a-85c4-43ff-bcd3-d3570bde6539",
   "metadata": {},
   "outputs": [],
   "source": [
    "dd.split_proportions"
   ]
  },
  {
   "cell_type": "code",
   "execution_count": null,
   "id": "8829e647-dfdb-47c6-9167-6eeeb4e52efe",
   "metadata": {},
   "outputs": [],
   "source": [
    "dd.split(splits=[0.9, 0.05, 0.05])"
   ]
  },
  {
   "cell_type": "code",
   "execution_count": null,
   "id": "0b68acfd-4ca8-4875-afcb-557211b3806a",
   "metadata": {},
   "outputs": [],
   "source": [
    "dd.splits"
   ]
  },
  {
   "cell_type": "code",
   "execution_count": null,
   "id": "32b75b0f-1de2-4c3f-9f0e-419676610edd",
   "metadata": {},
   "outputs": [],
   "source": [
    "dd.split_proportions"
   ]
  },
  {
   "cell_type": "markdown",
   "id": "300a8e8e-51fe-4846-90e6-b9602105472b",
   "metadata": {},
   "source": [
    "## Push to new dataset to the Hub"
   ]
  },
  {
   "cell_type": "code",
   "execution_count": null,
   "id": "4c5811ee-1aa7-4e81-a9c7-18dc3bd445e7",
   "metadata": {},
   "outputs": [],
   "source": [
    "dd.to_hub(dataset_name='fashionpedia_4_categories', repo_name='detection-datasets')"
   ]
  }
 ],
 "metadata": {
  "kernelspec": {
   "display_name": "Python 3 (ipykernel)",
   "language": "python",
   "name": "python3"
  },
  "language_info": {
   "codemirror_mode": {
    "name": "ipython",
    "version": 3
   },
   "file_extension": ".py",
   "mimetype": "text/x-python",
   "name": "python",
   "nbconvert_exporter": "python",
   "pygments_lexer": "ipython3",
   "version": "3.8.12"
  }
 },
 "nbformat": 4,
 "nbformat_minor": 5
}
