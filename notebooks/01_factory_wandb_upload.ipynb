{
 "cells": [
  {
   "cell_type": "code",
   "execution_count": null,
   "id": "b9961561-ec80-4535-9c60-81ea02f7a932",
   "metadata": {},
   "outputs": [],
   "source": [
    "from detection_datasets import Converter"
   ]
  },
  {
   "cell_type": "code",
   "execution_count": null,
   "id": "74d149b8-0fd2-4f95-99a8-f9bc6248721b",
   "metadata": {},
   "outputs": [],
   "source": [
    "read_config = {\n",
    "    'dataset_format': 'coco',\n",
    "    'path': '/Users/jeromeblin/self/blinjrm/detection-dataset/data/raw',\n",
    "    'splits': {\n",
    "        'train': ('train.json', 'train'),\n",
    "        'test': ('test.json', 'test'),\n",
    "    },\n",
    "    'other': 'argument',\n",
    "}\n",
    "\n",
    "converter = Converter()\n",
    "converter.read(**read_config)\n",
    "converter.dataset.data.head(1)"
   ]
  },
  {
   "cell_type": "code",
   "execution_count": null,
   "id": "76ec44c5-ba0c-4bb2-8fa9-13c115044c46",
   "metadata": {},
   "outputs": [],
   "source": [
    "converter.dataset.data"
   ]
  },
  {
   "cell_type": "code",
   "execution_count": null,
   "id": "35ca86d0-792e-4896-9c25-9185b8998997",
   "metadata": {},
   "outputs": [],
   "source": [
    "converter.dataset.split_proportions"
   ]
  },
  {
   "cell_type": "code",
   "execution_count": null,
   "id": "6cdb617a-af67-4f18-899d-79f4882f6348",
   "metadata": {},
   "outputs": [],
   "source": [
    "converter.dataset.splits"
   ]
  },
  {
   "cell_type": "code",
   "execution_count": null,
   "id": "b922e2a5-4752-4728-a68c-e749206f14eb",
   "metadata": {},
   "outputs": [],
   "source": [
    "converter.dataset.data.loc[16305]"
   ]
  },
  {
   "cell_type": "code",
   "execution_count": null,
   "id": "848463d6-b627-45aa-ac66-566eda822f68",
   "metadata": {},
   "outputs": [],
   "source": [
    "converter.dataset.data.loc[(16305, 0)]"
   ]
  },
  {
   "cell_type": "code",
   "execution_count": null,
   "id": "6351019c-7ec2-428e-9113-aba3b32e1963",
   "metadata": {},
   "outputs": [],
   "source": [
    "mapping = converter.dataset.categories.copy()\n",
    "mapping['new_category'] = \"\"\n",
    "mapping['new_category_id'] = \"\"\n",
    "\n",
    "# Clothing\n",
    "mapping.loc[mapping.category_id.isin(range(13)), 'new_category'] = 'clothing'\n",
    "mapping.loc[mapping.category_id.isin(range(13)), 'new_category_id'] = 0\n",
    "\n",
    "# Accessories\n",
    "mapping.loc[mapping.category_id.isin(range(13, 27)), 'new_category'] = 'accessories'\n",
    "mapping.loc[mapping.category_id.isin(range(13, 27)), 'new_category_id'] = 2\n",
    "\n",
    "# Shoes\n",
    "mapping.loc[mapping.category_id == 23, 'new_category'] = \"shoes\"\n",
    "mapping.loc[mapping.category_id == 23, 'new_category_id'] = 1\n",
    "\n",
    "# Other - to be dropped\n",
    "mapping.loc[mapping.category_id.isin(range(27, 46)), 'new_category'] = 'details'\n",
    "mapping.loc[mapping.category_id.isin(range(27, 46)), 'new_category_id'] = -1\n",
    "\n",
    "mapping = mapping[mapping.loc[:, 'new_category_id'] >= 0]"
   ]
  },
  {
   "cell_type": "code",
   "execution_count": null,
   "id": "1be91dc9-f669-4527-9e5f-411e41ef7b6f",
   "metadata": {},
   "outputs": [],
   "source": [
    "converter.transform(category_mapping=mapping, splits=[0.9, 0.05, 0.05], n_images=10000)\n",
    "converter.dataset.data"
   ]
  },
  {
   "cell_type": "code",
   "execution_count": null,
   "id": "02b2fa6a-a327-4040-82dd-2fdc78ae67ee",
   "metadata": {},
   "outputs": [],
   "source": [
    "write_config = {\n",
    "    'dataset_format': 'mmdet',\n",
    "    'name': 'fashionpedia_mmdet',\n",
    "    'path': '/Users/jeromeblin/self/blinjrm/detection-dataset/data/',\n",
    "    'destinations': ['wandb'],\n",
    "}\n",
    "\n",
    "converter.write(**write_config)"
   ]
  }
 ],
 "metadata": {
  "kernelspec": {
   "display_name": "Python 3 (ipykernel)",
   "language": "python",
   "name": "python3"
  },
  "language_info": {
   "codemirror_mode": {
    "name": "ipython",
    "version": 3
   },
   "file_extension": ".py",
   "mimetype": "text/x-python",
   "name": "python",
   "nbconvert_exporter": "python",
   "pygments_lexer": "ipython3",
   "version": "3.8.12"
  }
 },
 "nbformat": 4,
 "nbformat_minor": 5
}
