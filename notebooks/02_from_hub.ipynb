{
 "cells": [
  {
   "cell_type": "code",
   "execution_count": null,
   "id": "2d264c49-2209-4358-8f24-14b619441d4d",
   "metadata": {},
   "outputs": [],
   "source": [
    "%load_ext autoreload\n",
    "%autoreload 2"
   ]
  },
  {
   "cell_type": "code",
   "execution_count": null,
   "id": "5ca70220-1611-44b6-bc1a-493d763125b6",
   "metadata": {},
   "outputs": [],
   "source": [
    "from detection_datasets import DetectionDataset"
   ]
  },
  {
   "cell_type": "markdown",
   "id": "37840b7f-3cfc-4249-92af-0b68594e0e26",
   "metadata": {},
   "source": [
    "object oriented APIs that are designed as a fluent interface that encourages method cascading"
   ]
  },
  {
   "cell_type": "code",
   "execution_count": null,
   "id": "4c3c3749-9021-4350-a005-68e84ae72f1a",
   "metadata": {
    "tags": []
   },
   "outputs": [],
   "source": [
    "dd = DetectionDataset().from_hub('fashionpedia_100')"
   ]
  },
  {
   "cell_type": "code",
   "execution_count": null,
   "id": "b321cc72-3119-416a-8728-17e9b6e55d5a",
   "metadata": {},
   "outputs": [],
   "source": [
    "dd.data"
   ]
  },
  {
   "cell_type": "code",
   "execution_count": null,
   "id": "fe60e3b3-68bb-4e2f-ab50-4e79c4a22700",
   "metadata": {},
   "outputs": [],
   "source": [
    "dd.data.loc[18758]"
   ]
  },
  {
   "cell_type": "code",
   "execution_count": null,
   "id": "714f41a5-0302-42cb-a1b1-e4b33d3074c7",
   "metadata": {},
   "outputs": [],
   "source": [
    "dd.show(image_id=18758)"
   ]
  },
  {
   "cell_type": "code",
   "execution_count": null,
   "id": "534fa747-4750-4003-a362-f8423130d830",
   "metadata": {},
   "outputs": [],
   "source": [
    "dd.show(image_id=11127)"
   ]
  }
 ],
 "metadata": {
  "kernelspec": {
   "display_name": "Python 3 (ipykernel)",
   "language": "python",
   "name": "python3"
  },
  "language_info": {
   "codemirror_mode": {
    "name": "ipython",
    "version": 3
   },
   "file_extension": ".py",
   "mimetype": "text/x-python",
   "name": "python",
   "nbconvert_exporter": "python",
   "pygments_lexer": "ipython3",
   "version": "3.8.12"
  }
 },
 "nbformat": 4,
 "nbformat_minor": 5
}
