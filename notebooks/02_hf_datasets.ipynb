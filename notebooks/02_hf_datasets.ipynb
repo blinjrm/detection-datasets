{
 "cells": [
  {
   "cell_type": "code",
   "execution_count": null,
   "id": "e92e9fb3-50d3-44cf-871f-ee259eb6add7",
   "metadata": {},
   "outputs": [],
   "source": [
    "import copy\n",
    "\n",
    "import pandas as pd\n",
    "import datasets\n",
    "\n",
    "from datasets import Dataset, Image, ClassLabel, Sequence, Value, Features\n",
    "\n",
    "from detection_dataset import Converter"
   ]
  },
  {
   "cell_type": "code",
   "execution_count": null,
   "id": "20a6d4e3-4862-4a5e-b34a-c1171d407df0",
   "metadata": {},
   "outputs": [],
   "source": [
    "read_config = {\n",
    "    'dataset_format': 'coco',\n",
    "    'path': '/Users/jeromeblin/self/blinjrm/detection-dataset/data/raw',\n",
    "    'splits': {\n",
    "        'train': ('train.json', 'train'),\n",
    "        'test': ('test.json', 'test'),\n",
    "    },\n",
    "}\n",
    "\n",
    "converter = Converter()\n",
    "converter.read(**read_config)"
   ]
  },
  {
   "cell_type": "code",
   "execution_count": null,
   "id": "199e1de8-a762-4c72-86dc-e92f039c682b",
   "metadata": {},
   "outputs": [],
   "source": [
    "c = copy.deepcopy(converter)\n",
    "c.data.head(5)"
   ]
  },
  {
   "cell_type": "code",
   "execution_count": null,
   "id": "e42286d4-e60b-4307-b16a-4ba1b383104e",
   "metadata": {},
   "outputs": [],
   "source": [
    "data = c.dataset.data_by_image\n",
    "data.bbox = [[bbox.to_coco() for bbox in bboxes] for bboxes in data.bbox]\n",
    "data.head(5)"
   ]
  },
  {
   "cell_type": "code",
   "execution_count": null,
   "id": "39a3f32a-f509-45d9-9ed1-a47cdd4678e8",
   "metadata": {},
   "outputs": [],
   "source": [
    "dataset = Dataset.from_pandas(data)"
   ]
  },
  {
   "cell_type": "code",
   "execution_count": null,
   "id": "31b1446a-f8b2-46bc-93fc-6a3de776b1e1",
   "metadata": {},
   "outputs": [],
   "source": [
    "dataset"
   ]
  },
  {
   "cell_type": "code",
   "execution_count": null,
   "id": "d98c710c-5fa0-4ed8-a6fb-60f8dfd37982",
   "metadata": {},
   "outputs": [],
   "source": [
    "dataset[0]"
   ]
  },
  {
   "cell_type": "code",
   "execution_count": null,
   "id": "a6c836c0-d30c-4f9c-87ea-390d48d04291",
   "metadata": {},
   "outputs": [],
   "source": [
    "def export_to_hf_dataset(data: pd.DataFrame):\n",
    "    hf_data = []\n",
    "    \n",
    "    for _, row in data.iterrows():\n",
    "        objects = {}\n",
    "        objects[\"id\"] = row[\"category_id\"]\n",
    "        objects[\"category\"] = row[\"category\"]\n",
    "        objects[\"bbox\"] = row[\"bbox\"]\n",
    "        objects[\"area\"] = row[\"area\"]\n",
    "\n",
    "        data = {}\n",
    "        data[\"image_id\"] = row[\"image_id\"]\n",
    "        data[\"image\"] = row[\"image_path\"]\n",
    "        data[\"width\"] = row[\"width\"]\n",
    "        data[\"height\"] = row[\"height\"]\n",
    "        data[\"objects\"] = objects\n",
    "\n",
    "        hf_data.append(data)\n",
    "    \n",
    "    return hf_data\n",
    "\n",
    "d = export_to_hf_dataset(data)"
   ]
  },
  {
   "cell_type": "code",
   "execution_count": null,
   "id": "1eee3b94-bb64-41d3-b8f6-0d5bf44e6f70",
   "metadata": {},
   "outputs": [],
   "source": [
    "cat = c.dataset.category_names"
   ]
  },
  {
   "cell_type": "code",
   "execution_count": null,
   "id": "e480fd2a-ffeb-4da1-b1c2-50efdd04fbee",
   "metadata": {},
   "outputs": [],
   "source": [
    "x = pd.DataFrame.from_dict(d)\n",
    "d_hf = dataset.from_pandas(x).cast_column(\"image\", Image())\n",
    "d_hf"
   ]
  },
  {
   "cell_type": "code",
   "execution_count": null,
   "id": "8a7a48b3-f13b-4200-afd9-0267d25b5c6c",
   "metadata": {},
   "outputs": [],
   "source": [
    "d_hf.features"
   ]
  },
  {
   "cell_type": "code",
   "execution_count": null,
   "id": "648acbb4-50fb-479d-a968-a1e8a445b209",
   "metadata": {},
   "outputs": [],
   "source": [
    "features = Features(\n",
    "    {\n",
    "        \"image_id\": Value(dtype='int64'),\n",
    "        \"image\": Image(decode=True),\n",
    "        \"width\": Value(dtype='int64'),\n",
    "        \"height\": Value(dtype='int64'),\n",
    "        \"objects\": Sequence(\n",
    "            {\n",
    "                \"area\": Value(dtype='int64'),\n",
    "                \"bbox\": Sequence(feature=Value(dtype='float64'), length=-1),\n",
    "                \"category\": ClassLabel(names=list(c.dataset.category_names)),\n",
    "                \"id\": Value(dtype='int64'),\n",
    "            }\n",
    "        ),\n",
    "    }\n",
    ")\n",
    "\n",
    "d_hf2 = dataset.from_pandas(df=x, features=features, split='train')"
   ]
  },
  {
   "cell_type": "code",
   "execution_count": null,
   "id": "d564b18c-3097-4d90-b2b1-08e36b192f74",
   "metadata": {},
   "outputs": [],
   "source": [
    "d_hf2.features"
   ]
  },
  {
   "cell_type": "code",
   "execution_count": null,
   "id": "96f254c2-41e4-4894-a74c-10530568b080",
   "metadata": {},
   "outputs": [],
   "source": [
    "d_hf[0]"
   ]
  },
  {
   "cell_type": "code",
   "execution_count": null,
   "id": "b4123920-b50c-45b7-a24e-791ebff5d824",
   "metadata": {},
   "outputs": [],
   "source": [
    "d_hf.features['objects']"
   ]
  },
  {
   "cell_type": "code",
   "execution_count": null,
   "id": "6ccccd3b-a104-43c4-8495-a30d7d29fffe",
   "metadata": {},
   "outputs": [],
   "source": [
    "d_hf.features"
   ]
  },
  {
   "cell_type": "code",
   "execution_count": null,
   "id": "9bc9b0a5-bace-429c-a4ac-16f1eb6cadcf",
   "metadata": {},
   "outputs": [],
   "source": [
    "d_hf.features['image']"
   ]
  },
  {
   "cell_type": "code",
   "execution_count": null,
   "id": "4e8df5f6-60b3-4cfd-aad0-aa0887e129b9",
   "metadata": {},
   "outputs": [],
   "source": [
    "d_hf.shuffle(seed=42).select(range(1000))"
   ]
  },
  {
   "cell_type": "code",
   "execution_count": null,
   "id": "724a9adf-e965-4b7c-a8e9-739483a795e6",
   "metadata": {},
   "outputs": [],
   "source": [
    "im = d_hf[0]['image']\n",
    "im.filename"
   ]
  },
  {
   "cell_type": "code",
   "execution_count": null,
   "id": "74d70d3d-3163-448e-9d4a-9d961818e05d",
   "metadata": {},
   "outputs": [],
   "source": [
    "d_hf.to_pandas()"
   ]
  },
  {
   "cell_type": "code",
   "execution_count": null,
   "id": "09c4c337-3853-4032-b738-beb9ebfb1e9f",
   "metadata": {},
   "outputs": [],
   "source": [
    "d = d_hf.to_pandas()\n",
    "d.loc[0, 'image']"
   ]
  },
  {
   "cell_type": "code",
   "execution_count": null,
   "id": "8906dc4d-a5b0-4eb6-ab57-bdcc07773e6a",
   "metadata": {},
   "outputs": [],
   "source": [
    "pd.json_normalize(x['objects'])"
   ]
  },
  {
   "cell_type": "code",
   "execution_count": null,
   "id": "faad926a-9111-40a8-a999-4f32742a709a",
   "metadata": {},
   "outputs": [],
   "source": [
    "d_hf.push_to_hub('detection-dataset/fashionpedia_train')"
   ]
  }
 ],
 "metadata": {
  "kernelspec": {
   "display_name": "Python 3 (ipykernel)",
   "language": "python",
   "name": "python3"
  },
  "language_info": {
   "codemirror_mode": {
    "name": "ipython",
    "version": 3
   },
   "file_extension": ".py",
   "mimetype": "text/x-python",
   "name": "python",
   "nbconvert_exporter": "python",
   "pygments_lexer": "ipython3",
   "version": "3.8.12"
  }
 },
 "nbformat": 4,
 "nbformat_minor": 5
}
