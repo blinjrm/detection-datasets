{
 "cells": [
  {
   "cell_type": "code",
   "execution_count": null,
   "id": "13f97055-4726-46dd-b1df-7f6e05ec8728",
   "metadata": {},
   "outputs": [],
   "source": [
    "%load_ext autoreload\n",
    "%autoreload 2"
   ]
  },
  {
   "cell_type": "code",
   "execution_count": null,
   "id": "e92e9fb3-50d3-44cf-871f-ee259eb6add7",
   "metadata": {},
   "outputs": [],
   "source": [
    "import copy\n",
    "\n",
    "import pandas as pd\n",
    "import datasets\n",
    "from datasets import Dataset, Image, ClassLabel, Sequence, Value, Features\n",
    "\n",
    "from detection_dataset import Converter"
   ]
  },
  {
   "cell_type": "code",
   "execution_count": null,
   "id": "20a6d4e3-4862-4a5e-b34a-c1171d407df0",
   "metadata": {},
   "outputs": [],
   "source": [
    "read_config = {\n",
    "    'dataset_format': 'coco',\n",
    "    'path': '/Users/jeromeblin/self/blinjrm/detection-dataset/data/raw',\n",
    "    'splits': {\n",
    "        'train': ('train.json', 'train'),\n",
    "        'test': ('test.json', 'test'),\n",
    "    },\n",
    "}\n",
    "\n",
    "converter = Converter()\n",
    "converter.read(**read_config)"
   ]
  },
  {
   "cell_type": "code",
   "execution_count": null,
   "id": "199e1de8-a762-4c72-86dc-e92f039c682b",
   "metadata": {},
   "outputs": [],
   "source": [
    "c = copy.deepcopy(converter)\n",
    "c.data.head(5)"
   ]
  },
  {
   "cell_type": "code",
   "execution_count": null,
   "id": "0b3ffe58-de1f-4c6c-baa4-31b61cbcd6de",
   "metadata": {},
   "outputs": [],
   "source": [
    "d = c.dataset.to_hf_dataset()\n",
    "d"
   ]
  },
  {
   "cell_type": "code",
   "execution_count": null,
   "id": "ac6b4b1b-1207-4991-b1ed-25e389603db2",
   "metadata": {},
   "outputs": [],
   "source": [
    "d['train'].features"
   ]
  },
  {
   "cell_type": "code",
   "execution_count": null,
   "id": "606d2184-fb0b-4223-afd0-62ab24ed58c6",
   "metadata": {},
   "outputs": [],
   "source": [
    "d['train'][0]"
   ]
  },
  {
   "cell_type": "code",
   "execution_count": null,
   "id": "5c22d9aa-80fa-4e24-8c01-603a69c6605b",
   "metadata": {},
   "outputs": [],
   "source": [
    "d['train'][0]['image']"
   ]
  },
  {
   "cell_type": "code",
   "execution_count": null,
   "id": "59f287b5-2c6d-4ba7-8e45-3f745ed9569b",
   "metadata": {},
   "outputs": [],
   "source": [
    "categories = d['train'].features['objects'].feature['category']\n",
    "\n",
    "example = d['train'][0]\n",
    "[categories.int2str(x) for x in example['objects']['category']]"
   ]
  },
  {
   "cell_type": "code",
   "execution_count": null,
   "id": "74d70d3d-3163-448e-9d4a-9d961818e05d",
   "metadata": {},
   "outputs": [],
   "source": [
    "final_df = d_hf.to_pandas()\n",
    "final_df"
   ]
  },
  {
   "cell_type": "code",
   "execution_count": null,
   "id": "8906dc4d-a5b0-4eb6-ab57-bdcc07773e6a",
   "metadata": {},
   "outputs": [],
   "source": [
    "pd.json_normalize(final_df['objects'])"
   ]
  },
  {
   "cell_type": "code",
   "execution_count": null,
   "id": "4e8df5f6-60b3-4cfd-aad0-aa0887e129b9",
   "metadata": {},
   "outputs": [],
   "source": [
    "d_hf_small = d_hf.shuffle(seed=42).select(range(1000))"
   ]
  },
  {
   "cell_type": "code",
   "execution_count": null,
   "id": "faad926a-9111-40a8-a999-4f32742a709a",
   "metadata": {},
   "outputs": [],
   "source": [
    "# d_hf_small.push_to_hub('detection-dataset/fashionpedia_train')"
   ]
  }
 ],
 "metadata": {
  "kernelspec": {
   "display_name": "Python 3 (ipykernel)",
   "language": "python",
   "name": "python3"
  },
  "language_info": {
   "codemirror_mode": {
    "name": "ipython",
    "version": 3
   },
   "file_extension": ".py",
   "mimetype": "text/x-python",
   "name": "python",
   "nbconvert_exporter": "python",
   "pygments_lexer": "ipython3",
   "version": "3.8.12"
  }
 },
 "nbformat": 4,
 "nbformat_minor": 5
}
