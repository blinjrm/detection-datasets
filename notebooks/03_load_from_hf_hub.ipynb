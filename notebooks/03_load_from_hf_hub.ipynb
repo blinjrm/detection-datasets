{
 "cells": [
  {
   "cell_type": "code",
   "execution_count": null,
   "id": "53d2d68d-32e7-4ea8-ad4e-3bd70c9248c4",
   "metadata": {},
   "outputs": [],
   "source": [
    "from datasets import load_dataset"
   ]
  },
  {
   "cell_type": "code",
   "execution_count": null,
   "id": "3f7be024-af75-4f40-ae07-80c78766f35d",
   "metadata": {},
   "outputs": [],
   "source": [
    "dataset = load_dataset(\"detection-dataset/fashionpedia_train\")"
   ]
  },
  {
   "cell_type": "code",
   "execution_count": null,
   "id": "1d05fabc-73cd-47af-848d-9a7ada0b65df",
   "metadata": {},
   "outputs": [],
   "source": [
    "dataset"
   ]
  },
  {
   "cell_type": "code",
   "execution_count": null,
   "id": "71afb697-cfa3-47fb-9a2f-d3afb28e9ef2",
   "metadata": {},
   "outputs": [],
   "source": [
    "d = load_dataset(\"cppe-5\")\n",
    "d"
   ]
  },
  {
   "cell_type": "code",
   "execution_count": null,
   "id": "0a1049af-2a14-48c9-a6f2-000328c6e1c6",
   "metadata": {},
   "outputs": [],
   "source": [
    "d['train'][0]"
   ]
  },
  {
   "cell_type": "code",
   "execution_count": null,
   "id": "a438adb0-9c26-4c66-be71-507b35fd70cc",
   "metadata": {},
   "outputs": [],
   "source": [
    "d['train'].features['objects']"
   ]
  },
  {
   "cell_type": "code",
   "execution_count": null,
   "id": "fdef31a0-ef07-41bc-ac84-58b606dadc96",
   "metadata": {},
   "outputs": [],
   "source": [
    "[categories.int2str(x) for x in d['train'].features['objects']['category']]"
   ]
  },
  {
   "cell_type": "code",
   "execution_count": null,
   "id": "f125092c-654f-42b4-bf93-982327a71bf2",
   "metadata": {},
   "outputs": [],
   "source": [
    "d['train'].features['objects']"
   ]
  }
 ],
 "metadata": {
  "kernelspec": {
   "display_name": "Python 3 (ipykernel)",
   "language": "python",
   "name": "python3"
  },
  "language_info": {
   "codemirror_mode": {
    "name": "ipython",
    "version": 3
   },
   "file_extension": ".py",
   "mimetype": "text/x-python",
   "name": "python",
   "nbconvert_exporter": "python",
   "pygments_lexer": "ipython3",
   "version": "3.8.12"
  }
 },
 "nbformat": 4,
 "nbformat_minor": 5
}
