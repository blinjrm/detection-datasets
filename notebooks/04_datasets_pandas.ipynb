{
 "cells": [
  {
   "cell_type": "code",
   "execution_count": null,
   "id": "cb0d79bc-d6ba-41df-85de-e6172e517dfa",
   "metadata": {},
   "outputs": [],
   "source": [
    "%load_ext autoreload\n",
    "%autoreload 2"
   ]
  },
  {
   "cell_type": "code",
   "execution_count": null,
   "id": "68f80927-5899-4a41-885a-4ae959c2e541",
   "metadata": {},
   "outputs": [],
   "source": [
    "import copy\n",
    "\n",
    "import pandas as pd\n",
    "from datasets import Dataset, DatasetDict\n",
    "\n",
    "from detection_datasets import Converter"
   ]
  },
  {
   "cell_type": "code",
   "execution_count": null,
   "id": "2ae22869-f1f5-4bb0-a9d6-52809a88ea97",
   "metadata": {},
   "outputs": [],
   "source": [
    "read_config = {\n",
    "    'dataset_format': 'coco',\n",
    "    'path': '/Users/jeromeblin/self/blinjrm/detection-datasets/data/raw',\n",
    "    'splits': {\n",
    "        'train': ('train.json', 'train'),\n",
    "        'test': ('test.json', 'test'),\n",
    "    },\n",
    "}\n",
    "\n",
    "converter = Converter()\n",
    "converter.read(**read_config)"
   ]
  },
  {
   "cell_type": "code",
   "execution_count": null,
   "id": "53ba7726-cf56-42ce-8b53-bedfdb881d0d",
   "metadata": {},
   "outputs": [],
   "source": [
    "converter.data.head()"
   ]
  },
  {
   "cell_type": "code",
   "execution_count": null,
   "id": "51a22681-062a-48e9-bd01-d3be92fc546c",
   "metadata": {},
   "outputs": [],
   "source": [
    "ds = converter.dataset.to_hf_dataset()"
   ]
  },
  {
   "cell_type": "code",
   "execution_count": null,
   "id": "d954f277-c65a-4318-bda9-cddcaec9db4d",
   "metadata": {},
   "outputs": [],
   "source": [
    "ds"
   ]
  },
  {
   "cell_type": "code",
   "execution_count": null,
   "id": "69c8cc43-ea2f-4f00-9900-7df7a4498b2e",
   "metadata": {},
   "outputs": [],
   "source": [
    "ds['train'][0]"
   ]
  },
  {
   "cell_type": "code",
   "execution_count": null,
   "id": "6c697bca-e5bc-4fa9-814d-cb2d224afa4b",
   "metadata": {},
   "outputs": [],
   "source": [
    "df_splits = []\n",
    "for key in ds.keys():  \n",
    "    df = ds[key].to_pandas()\n",
    "    df['split'] = key\n",
    "    df_splits.append(df)\n",
    "\n",
    "final_df = pd.concat(df_splits)\n",
    "final_df"
   ]
  },
  {
   "cell_type": "code",
   "execution_count": null,
   "id": "d8f5fbc1-6241-4712-b8a3-a87c99097931",
   "metadata": {},
   "outputs": [],
   "source": [
    "objects = pd.json_normalize(final_df['objects'])\n",
    "objects"
   ]
  },
  {
   "cell_type": "code",
   "execution_count": null,
   "id": "8def1852-6a40-4ace-9600-663ce7522cd3",
   "metadata": {},
   "outputs": [],
   "source": [
    "final_df_normalized = final_df.join(objects)\n",
    "final_df_normalized"
   ]
  },
  {
   "cell_type": "code",
   "execution_count": null,
   "id": "5d304180-9275-4214-b252-48f4648b8f13",
   "metadata": {},
   "outputs": [],
   "source": [
    "def hf_datasetdict_to_pandas(ds: DatasetDict, explode: bool=False) -> pd.DataFrame:\n",
    "    df_splits = []\n",
    "    for key in ds.keys():  \n",
    "        df_split = ds[key].to_pandas()\n",
    "        df_split['split'] = key\n",
    "        df_splits.append(df_split)\n",
    "\n",
    "    df = pd.concat(df_splits)\n",
    "    \n",
    "    objects = pd.json_normalize(df['objects'])\n",
    "    objects = objects.rename(columns={'id': 'bbox_id'})\n",
    "    \n",
    "    final_df = df.join(objects)\n",
    "    final_df = final_df.drop(columns=['objects'])\n",
    "    \n",
    "    if explode:\n",
    "        return final_df.explode([\"bbox_id\", \"category\", \"area\", \"bbox\"]).set_index([\"image_id\", \"bbox_id\"])\n",
    "    \n",
    "    return final_df"
   ]
  },
  {
   "cell_type": "code",
   "execution_count": null,
   "id": "fe760d60-561b-4bb8-a2a7-1957bd8e249d",
   "metadata": {},
   "outputs": [],
   "source": [
    "hf_datasetdict_to_pandas(ds=ds)"
   ]
  },
  {
   "cell_type": "code",
   "execution_count": null,
   "id": "f2bdc963-c64f-4ca7-af41-c712ee849c98",
   "metadata": {},
   "outputs": [],
   "source": [
    "hf_datasetdict_to_pandas(ds=ds, explode=True)"
   ]
  }
 ],
 "metadata": {
  "kernelspec": {
   "display_name": "Python 3 (ipykernel)",
   "language": "python",
   "name": "python3"
  },
  "language_info": {
   "codemirror_mode": {
    "name": "ipython",
    "version": 3
   },
   "file_extension": ".py",
   "mimetype": "text/x-python",
   "name": "python",
   "nbconvert_exporter": "python",
   "pygments_lexer": "ipython3",
   "version": "3.8.12"
  }
 },
 "nbformat": 4,
 "nbformat_minor": 5
}
