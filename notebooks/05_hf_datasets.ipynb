{
 "cells": [
  {
   "cell_type": "code",
   "execution_count": null,
   "id": "e92e9fb3-50d3-44cf-871f-ee259eb6add7",
   "metadata": {},
   "outputs": [],
   "source": [
    "import copy\n",
    "\n",
    "from datasets import Dataset\n",
    "\n",
    "from detection_dataset import Converter"
   ]
  },
  {
   "cell_type": "code",
   "execution_count": null,
   "id": "20a6d4e3-4862-4a5e-b34a-c1171d407df0",
   "metadata": {},
   "outputs": [],
   "source": [
    "read_config = {\n",
    "    'dataset_format': 'coco',\n",
    "    'path': '/Users/jeromeblin/self/blinjrm/detection-dataset/data/raw',\n",
    "    'splits': {\n",
    "        'train': ('train.json', 'train'),\n",
    "        'test': ('test.json', 'test'),\n",
    "    },\n",
    "}\n",
    "\n",
    "converter = Converter()\n",
    "converter.read(**read_config)"
   ]
  },
  {
   "cell_type": "code",
   "execution_count": null,
   "id": "199e1de8-a762-4c72-86dc-e92f039c682b",
   "metadata": {},
   "outputs": [],
   "source": [
    "c = copy.deepcopy(converter)\n",
    "c.data.head(5)"
   ]
  },
  {
   "cell_type": "code",
   "execution_count": null,
   "id": "e42286d4-e60b-4307-b16a-4ba1b383104e",
   "metadata": {},
   "outputs": [],
   "source": [
    "data = c.data.copy()\n",
    "data.bbox = [bbox.to_coco() for bbox in data.bbox]"
   ]
  },
  {
   "cell_type": "code",
   "execution_count": null,
   "id": "39a3f32a-f509-45d9-9ed1-a47cdd4678e8",
   "metadata": {},
   "outputs": [],
   "source": [
    "dataset = Dataset.from_pandas(data)"
   ]
  },
  {
   "cell_type": "code",
   "execution_count": null,
   "id": "31b1446a-f8b2-46bc-93fc-6a3de776b1e1",
   "metadata": {},
   "outputs": [],
   "source": [
    "dataset"
   ]
  },
  {
   "cell_type": "code",
   "execution_count": null,
   "id": "d98c710c-5fa0-4ed8-a6fb-60f8dfd37982",
   "metadata": {},
   "outputs": [],
   "source": [
    "dataset[0]"
   ]
  }
 ],
 "metadata": {
  "kernelspec": {
   "display_name": "Python 3 (ipykernel)",
   "language": "python",
   "name": "python3"
  },
  "language_info": {
   "codemirror_mode": {
    "name": "ipython",
    "version": 3
   },
   "file_extension": ".py",
   "mimetype": "text/x-python",
   "name": "python",
   "nbconvert_exporter": "python",
   "pygments_lexer": "ipython3",
   "version": "3.8.12"
  }
 },
 "nbformat": 4,
 "nbformat_minor": 5
}
