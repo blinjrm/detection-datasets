{
 "cells": [
  {
   "cell_type": "code",
   "execution_count": null,
   "id": "b0875392-2855-4d37-9934-9c2d3bed6d8b",
   "metadata": {},
   "outputs": [],
   "source": [
    "%load_ext autoreload\n",
    "%reload_ext autoreload\n",
    "%autoreload 2\n",
    "\n",
    "from detection_datasets import DetectionDataset"
   ]
  },
  {
   "cell_type": "code",
   "execution_count": null,
   "id": "2eec6b1f-9747-44fb-a3a2-03bdca2ffcd7",
   "metadata": {},
   "outputs": [],
   "source": [
    "config = {\n",
    "    'dataset_format': 'coco',\n",
    "    'path': '/Users/jeromeblin/self/blinjrm/detection-datasets/data/raw',\n",
    "    'splits': {\n",
    "        'train': ('train.json', 'train'),\n",
    "        'test': ('test.json', 'test'),\n",
    "    },\n",
    "}\n",
    "\n",
    "dd = DetectionDataset()\n",
    "dd.from_disk(**config)"
   ]
  },
  {
   "cell_type": "code",
   "execution_count": null,
   "id": "431541af-1663-4dc8-b7ca-53d1e3434b2d",
   "metadata": {},
   "outputs": [],
   "source": [
    "dd.data"
   ]
  },
  {
   "cell_type": "code",
   "execution_count": null,
   "id": "b621d37d-908a-4457-becf-c6f52509c04a",
   "metadata": {},
   "outputs": [],
   "source": [
    "# dd.to_disk(\n",
    "#     dataset_format='yolo',\n",
    "#     name='fashionpedia_100_yolo',\n",
    "#     path='/Users/jeromeblin/self/blinjrm/detection-datasets/data',\n",
    "# )"
   ]
  },
  {
   "cell_type": "code",
   "execution_count": null,
   "id": "fe4c0970-f61f-439e-9faf-de4d6841fd9e",
   "metadata": {},
   "outputs": [],
   "source": [
    "ds = dd.get_hf_dataset()\n",
    "ds"
   ]
  },
  {
   "cell_type": "code",
   "execution_count": null,
   "id": "6ff2aedc-6aac-444c-97fe-20f4b18648af",
   "metadata": {},
   "outputs": [],
   "source": [
    "dd.to_hub(dataset_name='fashionpedia')"
   ]
  }
 ],
 "metadata": {
  "kernelspec": {
   "display_name": "Python 3 (ipykernel)",
   "language": "python",
   "name": "python3"
  },
  "language_info": {
   "codemirror_mode": {
    "name": "ipython",
    "version": 3
   },
   "file_extension": ".py",
   "mimetype": "text/x-python",
   "name": "python",
   "nbconvert_exporter": "python",
   "pygments_lexer": "ipython3",
   "version": "3.8.12"
  }
 },
 "nbformat": 4,
 "nbformat_minor": 5
}
