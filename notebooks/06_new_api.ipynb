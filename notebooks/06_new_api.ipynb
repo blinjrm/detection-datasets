{
 "cells": [
  {
   "cell_type": "code",
   "execution_count": null,
   "id": "b0875392-2855-4d37-9934-9c2d3bed6d8b",
   "metadata": {},
   "outputs": [],
   "source": [
    "%load_ext autoreload\n",
    "%autoreload 2\n",
    "\n",
    "from datasets import DatasetInfo\n",
    "from detection_datasets import DetectionDataset"
   ]
  },
  {
   "cell_type": "code",
   "execution_count": null,
   "id": "2eec6b1f-9747-44fb-a3a2-03bdca2ffcd7",
   "metadata": {},
   "outputs": [],
   "source": [
    "config = {\n",
    "    'dataset_format': 'coco',\n",
    "    'path': '/Users/jeromeblin/self/blinjrm/detection-datasets/data/raw',\n",
    "    'splits': {\n",
    "        'train': ('train.json', 'train'),\n",
    "        'test': ('test.json', 'test'),\n",
    "    },\n",
    "}\n",
    "\n",
    "dd = DetectionDataset()\n",
    "dd.from_disk(**config)"
   ]
  },
  {
   "cell_type": "code",
   "execution_count": null,
   "id": "9a7b97a4-faec-4741-83b7-74b343070c96",
   "metadata": {},
   "outputs": [],
   "source": [
    "dd.select(n_images=100)\n",
    "dd.data"
   ]
  },
  {
   "cell_type": "code",
   "execution_count": null,
   "id": "b621d37d-908a-4457-becf-c6f52509c04a",
   "metadata": {},
   "outputs": [],
   "source": [
    "# dd.to_disk(\n",
    "#     dataset_format='yolo',\n",
    "#     name='fashionpedia_100_yolo',\n",
    "#     path='/Users/jeromeblin/self/blinjrm/detection-datasets/data',\n",
    "# )"
   ]
  },
  {
   "cell_type": "code",
   "execution_count": null,
   "id": "6ff2aedc-6aac-444c-97fe-20f4b18648af",
   "metadata": {},
   "outputs": [],
   "source": [
    "dd.to_hub(dataset_name='fashionpedia_100', repo_name='detection-datasets')"
   ]
  },
  {
   "cell_type": "code",
   "execution_count": null,
   "id": "e69f337b-2a94-4e89-8a99-5fa721da720e",
   "metadata": {},
   "outputs": [],
   "source": [
    "d = dd.set_format(index='bbox')"
   ]
  },
  {
   "cell_type": "code",
   "execution_count": null,
   "id": "3a5802e8-5d58-4a0a-a731-0e7629b4c370",
   "metadata": {},
   "outputs": [],
   "source": [
    "d"
   ]
  },
  {
   "cell_type": "code",
   "execution_count": null,
   "id": "1116050b-fb45-4c82-9c66-4a7d8f161082",
   "metadata": {},
   "outputs": [],
   "source": [
    "ds['train'][0]"
   ]
  },
  {
   "cell_type": "code",
   "execution_count": null,
   "id": "c848848e-00e4-4669-80fb-9a439564df6a",
   "metadata": {},
   "outputs": [],
   "source": [
    "ds['train'].features"
   ]
  },
  {
   "cell_type": "markdown",
   "id": "5ea64273-50d9-4705-9cdd-7113084e8614",
   "metadata": {},
   "source": [
    "# Load from hub"
   ]
  },
  {
   "cell_type": "code",
   "execution_count": null,
   "id": "fe852dbf-d895-4622-8b1e-0348a5eda872",
   "metadata": {},
   "outputs": [],
   "source": [
    "from datasets import load_dataset\n",
    "\n",
    "dataset = load_dataset(\"detection-datasets/fashionpedia\")"
   ]
  },
  {
   "cell_type": "code",
   "execution_count": null,
   "id": "aa9b2b4d-3dda-41fd-8a30-bbc841477686",
   "metadata": {},
   "outputs": [],
   "source": [
    "dataset"
   ]
  },
  {
   "cell_type": "code",
   "execution_count": null,
   "id": "b6b87d0d-2ee6-484a-ba37-66b067b0e2b8",
   "metadata": {},
   "outputs": [],
   "source": [
    "example = dataset['train'][0]\n",
    "example"
   ]
  },
  {
   "cell_type": "code",
   "execution_count": null,
   "id": "db42d904-67f0-4389-8c72-f8bcf25ad1c4",
   "metadata": {},
   "outputs": [],
   "source": [
    "image = dataset['train'][0]['image']\n",
    "image.save('./image.jpg')"
   ]
  },
  {
   "cell_type": "code",
   "execution_count": null,
   "id": "c43cee7e-b51f-4bbd-9ccb-ed9e5aa8126d",
   "metadata": {},
   "outputs": [],
   "source": [
    "categories = dataset['train'].features['objects'].feature['category']\n",
    "labels = [categories.int2str(x) for x in example['objects']['category']]\n",
    "labels"
   ]
  },
  {
   "cell_type": "code",
   "execution_count": null,
   "id": "c312268b-e1cb-45c1-b7cb-e755dfe94864",
   "metadata": {},
   "outputs": [],
   "source": [
    "dataset['train'].set_format('pandas')"
   ]
  },
  {
   "cell_type": "code",
   "execution_count": null,
   "id": "857618f8-4aaf-4920-9d18-54ca9e07bc28",
   "metadata": {},
   "outputs": [],
   "source": [
    "ds = dataset['train'][:]"
   ]
  },
  {
   "cell_type": "code",
   "execution_count": null,
   "id": "a058c698-33f3-4beb-8c1a-dce747f1bc3e",
   "metadata": {},
   "outputs": [],
   "source": [
    "dataset[list(dataset.keys())[0]].features['objects'].feature['category']"
   ]
  },
  {
   "cell_type": "code",
   "execution_count": null,
   "id": "03d0e1b7-6657-4e96-8bdc-d94702f9a61c",
   "metadata": {},
   "outputs": [],
   "source": [
    "dataset['train'][0][\"image\"]"
   ]
  },
  {
   "cell_type": "code",
   "execution_count": null,
   "id": "e0e7cd29-1291-47ea-8ec6-3fc9df260fb2",
   "metadata": {},
   "outputs": [],
   "source": [
    "ds = dataset.copy()\n",
    "\n",
    "df_splits = []\n",
    "for key in ds.keys():\n",
    "    df_split = ds[key].to_pandas()\n",
    "    df_split[\"split\"] = key\n",
    "\n",
    "    df_splits.append(df_split)\n",
    "\n",
    "df = pd.concat(df_splits)\n",
    "\n",
    "objects = pd.json_normalize(df[\"objects\"])\n",
    "\n",
    "data = df.join(objects)"
   ]
  },
  {
   "cell_type": "code",
   "execution_count": null,
   "id": "dbe20f15-ade5-489b-a2b0-d3d5aff70173",
   "metadata": {},
   "outputs": [],
   "source": [
    "data"
   ]
  },
  {
   "cell_type": "markdown",
   "id": "31dd767c-d623-4c75-9e96-299ef6e266a7",
   "metadata": {},
   "source": [
    "# Load from hub in DetectionDataset"
   ]
  },
  {
   "cell_type": "code",
   "execution_count": null,
   "id": "186d53c4-be76-4710-8a3d-d1bd38afe241",
   "metadata": {},
   "outputs": [],
   "source": [
    "d = DetectionDataset()\n",
    "d.from_hub('fashionpedia')"
   ]
  },
  {
   "cell_type": "code",
   "execution_count": null,
   "id": "2044b8d3-d1af-47d1-88bc-ee76a90e5684",
   "metadata": {},
   "outputs": [],
   "source": [
    "d.data"
   ]
  },
  {
   "cell_type": "code",
   "execution_count": null,
   "id": "7b85b3bb-6927-46d9-8e01-44c4c02101e2",
   "metadata": {},
   "outputs": [],
   "source": [
    "import io\n",
    "from PIL import Image"
   ]
  },
  {
   "cell_type": "code",
   "execution_count": null,
   "id": "e509dfdf-0897-4be2-acbd-b980db3efe01",
   "metadata": {},
   "outputs": [],
   "source": [
    "image_data = d.data.loc[23, 'image_path']['bytes']\n",
    "image = Image.open(io.BytesIO(image_data))\n",
    "image"
   ]
  }
 ],
 "metadata": {
  "kernelspec": {
   "display_name": "Python 3 (ipykernel)",
   "language": "python",
   "name": "python3"
  },
  "language_info": {
   "codemirror_mode": {
    "name": "ipython",
    "version": 3
   },
   "file_extension": ".py",
   "mimetype": "text/x-python",
   "name": "python",
   "nbconvert_exporter": "python",
   "pygments_lexer": "ipython3",
   "version": "3.8.12"
  }
 },
 "nbformat": 4,
 "nbformat_minor": 5
}
