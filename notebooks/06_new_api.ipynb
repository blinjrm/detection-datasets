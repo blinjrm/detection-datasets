{
 "cells": [
  {
   "cell_type": "code",
   "execution_count": null,
   "id": "b0875392-2855-4d37-9934-9c2d3bed6d8b",
   "metadata": {},
   "outputs": [],
   "source": [
    "# %load_ext autoreload\n",
    "%reload_ext autoreload\n",
    "%autoreload 2\n",
    "\n",
    "from detection_datasets import DetectionDataset"
   ]
  },
  {
   "cell_type": "code",
   "execution_count": null,
   "id": "6269bc1b-8a55-4570-96c1-077151e31076",
   "metadata": {},
   "outputs": [],
   "source": [
    "dd = DetectionDataset()\n",
    "dd.data"
   ]
  },
  {
   "cell_type": "code",
   "execution_count": null,
   "id": "2eec6b1f-9747-44fb-a3a2-03bdca2ffcd7",
   "metadata": {},
   "outputs": [],
   "source": [
    "config = {\n",
    "    'dataset_format': 'coco',\n",
    "    'path': '/Users/jeromeblin/self/blinjrm/detection-datasets/data/raw',\n",
    "    'splits': {\n",
    "        'train': ('train.json', 'train'),\n",
    "        'test': ('test.json', 'test'),\n",
    "    },\n",
    "}\n",
    "\n",
    "dd = DetectionDataset()\n",
    "dd.from_disk(**config)"
   ]
  },
  {
   "cell_type": "code",
   "execution_count": null,
   "id": "6ab83e1c-c0fa-49ec-9a20-2e2fd7a3d15d",
   "metadata": {
    "tags": []
   },
   "outputs": [],
   "source": [
    "dd.data"
   ]
  },
  {
   "cell_type": "code",
   "execution_count": null,
   "id": "c4536f98-fd3d-4663-82dc-d5562f244565",
   "metadata": {},
   "outputs": [],
   "source": [
    "dd.from_disk(**config)\n",
    "dd.data"
   ]
  },
  {
   "cell_type": "code",
   "execution_count": null,
   "id": "4675aefe-9b7d-4856-a658-600084b0971c",
   "metadata": {},
   "outputs": [],
   "source": [
    "dd.set_format(index='image')"
   ]
  }
 ],
 "metadata": {
  "kernelspec": {
   "display_name": "Python 3 (ipykernel)",
   "language": "python",
   "name": "python3"
  },
  "language_info": {
   "codemirror_mode": {
    "name": "ipython",
    "version": 3
   },
   "file_extension": ".py",
   "mimetype": "text/x-python",
   "name": "python",
   "nbconvert_exporter": "python",
   "pygments_lexer": "ipython3",
   "version": "3.8.12"
  }
 },
 "nbformat": 4,
 "nbformat_minor": 5
}
