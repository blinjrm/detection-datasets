{
 "cells": [
  {
   "cell_type": "code",
   "execution_count": null,
   "id": "b0875392-2855-4d37-9934-9c2d3bed6d8b",
   "metadata": {},
   "outputs": [],
   "source": [
    "%reload_ext autoreload\n",
    "%autoreload 2\n",
    "\n",
    "from datasets import DatasetInfo\n",
    "from detection_datasets import DetectionDataset"
   ]
  },
  {
   "cell_type": "code",
   "execution_count": null,
   "id": "2eec6b1f-9747-44fb-a3a2-03bdca2ffcd7",
   "metadata": {},
   "outputs": [],
   "source": [
    "config = {\n",
    "    'dataset_format': 'coco',\n",
    "    'path': '/Users/jeromeblin/self/blinjrm/detection-datasets/data/raw',\n",
    "    'splits': {\n",
    "        'train': ('train.json', 'train'),\n",
    "        'test': ('test.json', 'test'),\n",
    "    },\n",
    "}\n",
    "\n",
    "dd = DetectionDataset()\n",
    "dd.from_disk(**config)"
   ]
  },
  {
   "cell_type": "code",
   "execution_count": null,
   "id": "a149fb73-5bfc-4d9a-bfb5-b7d64f831012",
   "metadata": {},
   "outputs": [],
   "source": [
    "dd.data"
   ]
  },
  {
   "cell_type": "code",
   "execution_count": null,
   "id": "b621d37d-908a-4457-becf-c6f52509c04a",
   "metadata": {},
   "outputs": [],
   "source": [
    "# dd.to_disk(\n",
    "#     dataset_format='yolo',\n",
    "#     name='fashionpedia_100_yolo',\n",
    "#     path='/Users/jeromeblin/self/blinjrm/detection-datasets/data',\n",
    "# )"
   ]
  },
  {
   "cell_type": "code",
   "execution_count": null,
   "id": "6ff2aedc-6aac-444c-97fe-20f4b18648af",
   "metadata": {},
   "outputs": [],
   "source": [
    "# dd.to_hub(dataset_name='fashionpedia')"
   ]
  },
  {
   "cell_type": "code",
   "execution_count": null,
   "id": "e69f337b-2a94-4e89-8a99-5fa721da720e",
   "metadata": {},
   "outputs": [],
   "source": [
    "d = dd.set_format(index='bbox')"
   ]
  },
  {
   "cell_type": "code",
   "execution_count": null,
   "id": "3a5802e8-5d58-4a0a-a731-0e7629b4c370",
   "metadata": {},
   "outputs": [],
   "source": [
    "d"
   ]
  },
  {
   "cell_type": "code",
   "execution_count": null,
   "id": "1116050b-fb45-4c82-9c66-4a7d8f161082",
   "metadata": {},
   "outputs": [],
   "source": [
    "ds['train'][0]"
   ]
  },
  {
   "cell_type": "code",
   "execution_count": null,
   "id": "c848848e-00e4-4669-80fb-9a439564df6a",
   "metadata": {},
   "outputs": [],
   "source": [
    "ds['train'].features"
   ]
  },
  {
   "cell_type": "markdown",
   "id": "5ea64273-50d9-4705-9cdd-7113084e8614",
   "metadata": {},
   "source": [
    "# Load from hub"
   ]
  },
  {
   "cell_type": "code",
   "execution_count": null,
   "id": "fe852dbf-d895-4622-8b1e-0348a5eda872",
   "metadata": {},
   "outputs": [],
   "source": [
    "from datasets import load_dataset\n",
    "\n",
    "dataset = load_dataset(\"detection-datasets/fashionpedia\")"
   ]
  },
  {
   "cell_type": "code",
   "execution_count": null,
   "id": "aa9b2b4d-3dda-41fd-8a30-bbc841477686",
   "metadata": {},
   "outputs": [],
   "source": [
    "dataset"
   ]
  },
  {
   "cell_type": "code",
   "execution_count": null,
   "id": "03d0e1b7-6657-4e96-8bdc-d94702f9a61c",
   "metadata": {},
   "outputs": [],
   "source": [
    "dataset['train'][0]"
   ]
  }
 ],
 "metadata": {
  "kernelspec": {
   "display_name": "Python 3 (ipykernel)",
   "language": "python",
   "name": "python3"
  },
  "language_info": {
   "codemirror_mode": {
    "name": "ipython",
    "version": 3
   },
   "file_extension": ".py",
   "mimetype": "text/x-python",
   "name": "python",
   "nbconvert_exporter": "python",
   "pygments_lexer": "ipython3",
   "version": "3.8.12"
  }
 },
 "nbformat": 4,
 "nbformat_minor": 5
}
