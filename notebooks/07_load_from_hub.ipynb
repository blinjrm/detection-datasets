{
 "cells": [
  {
   "cell_type": "code",
   "execution_count": null,
   "id": "2d264c49-2209-4358-8f24-14b619441d4d",
   "metadata": {},
   "outputs": [],
   "source": [
    "%load_ext autoreload\n",
    "%autoreload 2"
   ]
  },
  {
   "cell_type": "code",
   "execution_count": null,
   "id": "5ca70220-1611-44b6-bc1a-493d763125b6",
   "metadata": {},
   "outputs": [],
   "source": [
    "import pandas as pd\n",
    "from detection_datasets import DetectionDataset"
   ]
  },
  {
   "cell_type": "code",
   "execution_count": null,
   "id": "4c3c3749-9021-4350-a005-68e84ae72f1a",
   "metadata": {
    "tags": []
   },
   "outputs": [],
   "source": [
    "dd = DetectionDataset()\n",
    "dd.from_hub('fashionpedia')"
   ]
  },
  {
   "cell_type": "code",
   "execution_count": null,
   "id": "038dc416-8ca8-4f34-8c1e-a67f445a6c60",
   "metadata": {},
   "outputs": [],
   "source": [
    "dd.data"
   ]
  }
 ],
 "metadata": {
  "kernelspec": {
   "display_name": "Python 3 (ipykernel)",
   "language": "python",
   "name": "python3"
  },
  "language_info": {
   "codemirror_mode": {
    "name": "ipython",
    "version": 3
   },
   "file_extension": ".py",
   "mimetype": "text/x-python",
   "name": "python",
   "nbconvert_exporter": "python",
   "pygments_lexer": "ipython3",
   "version": "3.8.12"
  }
 },
 "nbformat": 4,
 "nbformat_minor": 5
}
