{
 "cells": [
  {
   "cell_type": "code",
   "execution_count": null,
   "id": "e2e5344d-9d2b-4407-8cf7-ef166eae76b8",
   "metadata": {},
   "outputs": [],
   "source": [
    "%load_ext autoreload\n",
    "%autoreload 2"
   ]
  },
  {
   "cell_type": "code",
   "execution_count": null,
   "id": "14718119-83f3-494d-8d20-fe7c1491ceef",
   "metadata": {},
   "outputs": [],
   "source": [
    "import json\n",
    "import pandas as pd\n",
    "from huggingface_hub import HfApi\n",
    "from datasets import Dataset, ClassLabel, Features, Image, Sequence, Value\n",
    "\n",
    "from detection_datasets.detection_dataset import DetectionDataset"
   ]
  },
  {
   "cell_type": "code",
   "execution_count": null,
   "id": "5880d90d-5576-4813-988e-23c4223ded6e",
   "metadata": {},
   "outputs": [],
   "source": [
    "api = HfApi()\n",
    "datasets = api.list_datasets(author='detection-dataset')\n",
    "[dataset.id.split('/')[-1] for dataset in datasets]"
   ]
  },
  {
   "cell_type": "code",
   "execution_count": null,
   "id": "174e8f55-01fd-41aa-8af6-1c4da1b6fe98",
   "metadata": {},
   "outputs": [],
   "source": [
    "ds = DetectionDataset.from_hub('fashionpedia_train')"
   ]
  },
  {
   "cell_type": "code",
   "execution_count": null,
   "id": "ce189f04-a380-46b7-ae41-af5e94b54404",
   "metadata": {},
   "outputs": [],
   "source": [
    "ds.dataset['train'][0]"
   ]
  },
  {
   "cell_type": "code",
   "execution_count": null,
   "id": "2e7e4d2e-d642-47f2-bb68-b523b44b654b",
   "metadata": {},
   "outputs": [],
   "source": [
    "config = {\n",
    "    'dataset_format': 'coco',\n",
    "    'path': '/Users/jeromeblin/self/blinjrm/detection-datasets/data/raw',\n",
    "    'splits': {\n",
    "        'train': ('train.json', 'train'),\n",
    "        'test': ('test.json', 'test'),\n",
    "    },\n",
    "}\n",
    "\n",
    "dd = DetectionDataset.from_disk(**config)\n",
    "dd"
   ]
  },
  {
   "cell_type": "code",
   "execution_count": null,
   "id": "e931ebe6-2bf3-409a-b7b5-c4d7fbc23687",
   "metadata": {},
   "outputs": [],
   "source": [
    "dd.dataset"
   ]
  },
  {
   "cell_type": "code",
   "execution_count": null,
   "id": "a2de44ec-24ac-4ef0-bc3b-50c8f30200c2",
   "metadata": {},
   "outputs": [],
   "source": [
    "dd.dataset.set_format('pandas')"
   ]
  },
  {
   "cell_type": "code",
   "execution_count": null,
   "id": "7eddc109-63a9-4e73-b012-1c7d7dd854d0",
   "metadata": {},
   "outputs": [],
   "source": [
    "dd.dataset.format"
   ]
  },
  {
   "cell_type": "code",
   "execution_count": null,
   "id": "bbe42ecf-5459-4f9d-928c-fd62b680d44b",
   "metadata": {},
   "outputs": [],
   "source": [
    "dd.dataset.formatted_as('pandas')"
   ]
  },
  {
   "cell_type": "code",
   "execution_count": null,
   "id": "ec53876c-2aa2-4640-9676-6d5999cc200b",
   "metadata": {},
   "outputs": [],
   "source": [
    "dd.dataset[:10]"
   ]
  },
  {
   "cell_type": "code",
   "execution_count": null,
   "id": "02507dc2-fe19-4802-8066-48b49350aa89",
   "metadata": {},
   "outputs": [],
   "source": [
    "image = dd.dataset[0]['image'].values[0]\n",
    "image"
   ]
  },
  {
   "cell_type": "code",
   "execution_count": null,
   "id": "a05e34fa-5ac1-4833-aa77-e1f0852ba2ae",
   "metadata": {},
   "outputs": [],
   "source": [
    "dd.dataset.features"
   ]
  },
  {
   "cell_type": "code",
   "execution_count": null,
   "id": "eda3a55e-a2b2-416a-9a46-94a470742621",
   "metadata": {},
   "outputs": [],
   "source": [
    "dd_filtered = dd.dataset.filter(lambda x: x == 'train', input_columns='split')"
   ]
  },
  {
   "cell_type": "code",
   "execution_count": null,
   "id": "4b1ecb31-ba5a-4acb-b61d-7bccc87db19e",
   "metadata": {},
   "outputs": [],
   "source": [
    "dd_filtered[0]"
   ]
  },
  {
   "cell_type": "code",
   "execution_count": null,
   "id": "0eed739e-5fb0-4218-8a39-8f4b20c836b1",
   "metadata": {},
   "outputs": [],
   "source": [
    "dd.dataset.unique('split')"
   ]
  },
  {
   "cell_type": "code",
   "execution_count": null,
   "id": "93b233e8-155d-49cc-a82d-ab36f1753ecb",
   "metadata": {},
   "outputs": [],
   "source": [
    "ddh = dd.to_hub(dataset_name='test')"
   ]
  },
  {
   "cell_type": "code",
   "execution_count": null,
   "id": "76963bc9-eb1c-4210-be4a-3d631c23ebee",
   "metadata": {},
   "outputs": [],
   "source": [
    "ddh"
   ]
  },
  {
   "cell_type": "code",
   "execution_count": null,
   "id": "ea5464ec-2815-4f36-a4cd-6cd002bf7038",
   "metadata": {},
   "outputs": [],
   "source": [
    "ddh['test'].features"
   ]
  },
  {
   "cell_type": "code",
   "execution_count": null,
   "id": "89df7eda-61b6-458c-a180-8ce25fa8b442",
   "metadata": {},
   "outputs": [],
   "source": [
    "import datasets\n",
    "\n",
    "datasets.Split.ALL"
   ]
  }
 ],
 "metadata": {
  "kernelspec": {
   "display_name": "Python 3 (ipykernel)",
   "language": "python",
   "name": "python3"
  },
  "language_info": {
   "codemirror_mode": {
    "name": "ipython",
    "version": 3
   },
   "file_extension": ".py",
   "mimetype": "text/x-python",
   "name": "python",
   "nbconvert_exporter": "python",
   "pygments_lexer": "ipython3",
   "version": "3.8.12"
  }
 },
 "nbformat": 4,
 "nbformat_minor": 5
}
