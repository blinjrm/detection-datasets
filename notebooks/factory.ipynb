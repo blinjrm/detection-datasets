{
 "cells": [
  {
   "cell_type": "code",
   "execution_count": null,
   "id": "b9961561-ec80-4535-9c60-81ea02f7a932",
   "metadata": {},
   "outputs": [],
   "source": [
    "import numpy as np\n",
    "from detection_dataset import Converter"
   ]
  },
  {
   "cell_type": "code",
   "execution_count": null,
   "id": "74d149b8-0fd2-4f95-99a8-f9bc6248721b",
   "metadata": {},
   "outputs": [],
   "source": [
    "read_config = {\n",
    "    'dataset_format': 'coco',\n",
    "    'path': '/Users/jeromeblin/self/blinjrm/detection-dataset/data/raw',\n",
    "    'splits': {\n",
    "        'train': ('train.json', 'train'),\n",
    "        'test': ('test.json', 'test'),\n",
    "    },\n",
    "}\n",
    "\n",
    "converter = Converter()\n",
    "converter.read(**read_config)\n",
    "converter.dataset.data.head(1)"
   ]
  },
  {
   "cell_type": "code",
   "execution_count": null,
   "id": "40ee202e-82fb-4e57-9302-9fb18594376d",
   "metadata": {},
   "outputs": [],
   "source": [
    "converter.dataset.data.image_path[3]"
   ]
  },
  {
   "cell_type": "code",
   "execution_count": null,
   "id": "6351019c-7ec2-428e-9113-aba3b32e1963",
   "metadata": {},
   "outputs": [],
   "source": [
    "mapping = converter.dataset.categories.copy()\n",
    "mapping['new_category'] = \"\"\n",
    "mapping['new_category_id'] = \"\"\n",
    "\n",
    "# Clothing\n",
    "mapping.loc[mapping.category_id.isin(range(13)), 'new_category'] = 'clothing'\n",
    "mapping.loc[mapping.category_id.isin(range(13)), 'new_category_id'] = 1\n",
    "\n",
    "# Accessories\n",
    "mapping.loc[mapping.category_id.isin(range(13, 27)), 'new_category'] = 'accessories'\n",
    "mapping.loc[mapping.category_id.isin(range(13, 27)), 'new_category_id'] = 3\n",
    "\n",
    "# Shoes\n",
    "mapping.loc[mapping.category_id == 23, 'new_category'] = \"shoes\"\n",
    "mapping.loc[mapping.category_id == 23, 'new_category_id'] = 2\n",
    "\n",
    "# Other - to be dropped\n",
    "mapping.loc[mapping.category_id.isin(range(27, 46)), 'new_category'] = 'details'\n",
    "mapping.loc[mapping.category_id.isin(range(27, 46)), 'new_category_id'] = -1\n",
    "\n",
    "mapping = mapping[mapping.loc[:, 'new_category_id'] > 0]\n",
    "\n",
    "converter.transform(category_mapping = mapping)\n",
    "converter.dataset.class_names"
   ]
  },
  {
   "cell_type": "code",
   "execution_count": null,
   "id": "3b2aa270-689e-4a9e-9c50-245d5165bc2a",
   "metadata": {
    "tags": []
   },
   "outputs": [],
   "source": [
    "write_config = {\n",
    "    'dataset_format': 'mmdet',\n",
    "    'path': '/Users/jeromeblin/self/blinjrm/detection-dataset/data/',\n",
    "    'name': 'mmdet_test',\n",
    "    'n_images': 10,\n",
    "    'splits': (0.8, 0.1, 0.1),\n",
    "}\n",
    "\n",
    "converter.write(**write_config)\n",
    "converter.writer.final_data.sort_values('image_id').head(1)"
   ]
  }
 ],
 "metadata": {
  "kernelspec": {
   "display_name": "Python 3 (ipykernel)",
   "language": "python",
   "name": "python3"
  },
  "language_info": {
   "codemirror_mode": {
    "name": "ipython",
    "version": 3
   },
   "file_extension": ".py",
   "mimetype": "text/x-python",
   "name": "python",
   "nbconvert_exporter": "python",
   "pygments_lexer": "ipython3",
   "version": "3.8.12"
  }
 },
 "nbformat": 4,
 "nbformat_minor": 5
}
