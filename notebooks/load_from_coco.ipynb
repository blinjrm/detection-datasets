{
 "cells": [
  {
   "cell_type": "code",
   "execution_count": null,
   "id": "20575599-9808-4ff7-a149-deb0a00527f4",
   "metadata": {},
   "outputs": [],
   "source": [
    "from detection_dataset import Convert"
   ]
  },
  {
   "cell_type": "code",
   "execution_count": null,
   "id": "641ca87f-33eb-44ec-99cf-cc9f84754167",
   "metadata": {},
   "outputs": [],
   "source": [
    "path = '/Users/jeromeblin/self/blinjrm/detection-dataset/data/raw'\n",
    "splits = {\n",
    "    'train': ('train.json', 'train'),\n",
    "    'test': ('test.json', 'test'),\n",
    "}"
   ]
  },
  {
   "cell_type": "code",
   "execution_count": null,
   "id": "28b0d1db-dd65-4756-8192-918d1c00d793",
   "metadata": {},
   "outputs": [],
   "source": [
    "converter = Convert.from_coco(path=path, splits=splits)"
   ]
  },
  {
   "cell_type": "code",
   "execution_count": null,
   "id": "a6684a98-c3c1-4fbe-9bce-ca975c46cc8a",
   "metadata": {},
   "outputs": [],
   "source": [
    "converter"
   ]
  },
  {
   "cell_type": "code",
   "execution_count": null,
   "id": "f5520df5-4b1f-4a0e-8b18-65d9cbdec913",
   "metadata": {},
   "outputs": [],
   "source": [
    "converter.dataset.data"
   ]
  },
  {
   "cell_type": "code",
   "execution_count": null,
   "id": "a326bee9-3f6e-4991-a4f8-e0005c2de01e",
   "metadata": {},
   "outputs": [],
   "source": [
    "converter.dataset.categories"
   ]
  }
 ],
 "metadata": {
  "kernelspec": {
   "display_name": "Python 3 (ipykernel)",
   "language": "python",
   "name": "python3"
  },
  "language_info": {
   "codemirror_mode": {
    "name": "ipython",
    "version": 3
   },
   "file_extension": ".py",
   "mimetype": "text/x-python",
   "name": "python",
   "nbconvert_exporter": "python",
   "pygments_lexer": "ipython3",
   "version": "3.8.12"
  }
 },
 "nbformat": 4,
 "nbformat_minor": 5
}
