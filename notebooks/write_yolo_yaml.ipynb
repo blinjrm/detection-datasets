{
 "cells": [
  {
   "cell_type": "markdown",
   "id": "676fca9a-9a9c-4ce5-a9cc-1098bb202476",
   "metadata": {},
   "source": [
    "https://yaml.readthedocs.io/en/latest/example.html"
   ]
  },
  {
   "cell_type": "code",
   "execution_count": null,
   "id": "2f720a27-1f73-4333-bd11-d975171b039f",
   "metadata": {},
   "outputs": [],
   "source": [
    "from ruamel.yaml import YAML"
   ]
  },
  {
   "cell_type": "code",
   "execution_count": null,
   "id": "381d3008-58fa-46a1-b819-c888ae56c4b2",
   "metadata": {},
   "outputs": [],
   "source": [
    "DATASET_YAML = \"\"\"\n",
    "path: {path}\n",
    "train: images/train\n",
    "val: images/val\n",
    "test: images/test\n",
    "\n",
    "# Classes \n",
    "nc: n_classes \n",
    "names: [Class_names]\n",
    "\"\"\".format(path='my_path')\n",
    "\n",
    "yaml = YAML()\n",
    "code = yaml.load(DATASET_YAML)\n",
    "\n",
    "with open('yolo.yml', 'w') as outfile:\n",
    "    yaml.dump(code, outfile)"
   ]
  }
 ],
 "metadata": {
  "kernelspec": {
   "display_name": "Python 3 (ipykernel)",
   "language": "python",
   "name": "python3"
  },
  "language_info": {
   "codemirror_mode": {
    "name": "ipython",
    "version": 3
   },
   "file_extension": ".py",
   "mimetype": "text/x-python",
   "name": "python",
   "nbconvert_exporter": "python",
   "pygments_lexer": "ipython3",
   "version": "3.8.12"
  }
 },
 "nbformat": 4,
 "nbformat_minor": 5
}
